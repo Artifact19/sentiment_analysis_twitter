{
 "cells": [
  {
   "cell_type": "code",
   "execution_count": 1,
   "id": "1c977e08-e335-40e5-8447-7eee074df2e6",
   "metadata": {
    "scrolled": true
   },
   "outputs": [],
   "source": [
    "import pandas as pd\n",
    "import re\n",
    "import nltk\n",
    "from nltk.corpus import stopwords, wordnet\n",
    "from nltk.stem import WordNetLemmatizer\n",
    "from nltk import pos_tag, word_tokenize\n",
    "from sklearn.feature_extraction.text import TfidfVectorizer\n",
    "from sklearn.preprocessing import LabelEncoder\n",
    "from sklearn.model_selection import train_test_split\n",
    "from sklearn.linear_model import LogisticRegression\n",
    "from sklearn.metrics import classification_report, accuracy_score, confusion_matrix, ConfusionMatrixDisplay\n",
    "import joblib\n",
    "import matplotlib.pyplot as plt"
   ]
  },
  {
   "cell_type": "code",
   "execution_count": 2,
   "id": "e21f5f0a-a434-4621-b8f0-597172aba3e5",
   "metadata": {},
   "outputs": [
    {
     "data": {
      "text/html": [
       "<div>\n",
       "<style scoped>\n",
       "    .dataframe tbody tr th:only-of-type {\n",
       "        vertical-align: middle;\n",
       "    }\n",
       "\n",
       "    .dataframe tbody tr th {\n",
       "        vertical-align: top;\n",
       "    }\n",
       "\n",
       "    .dataframe thead th {\n",
       "        text-align: right;\n",
       "    }\n",
       "</style>\n",
       "<table border=\"1\" class=\"dataframe\">\n",
       "  <thead>\n",
       "    <tr style=\"text-align: right;\">\n",
       "      <th></th>\n",
       "      <th>text</th>\n",
       "      <th>sentiment</th>\n",
       "    </tr>\n",
       "  </thead>\n",
       "  <tbody>\n",
       "    <tr>\n",
       "      <th>0</th>\n",
       "      <td>I`d have responded, if I were going</td>\n",
       "      <td>neutral</td>\n",
       "    </tr>\n",
       "    <tr>\n",
       "      <th>1</th>\n",
       "      <td>Sooo SAD I will miss you here in San Diego!!!</td>\n",
       "      <td>negative</td>\n",
       "    </tr>\n",
       "    <tr>\n",
       "      <th>2</th>\n",
       "      <td>my boss is bullying me...</td>\n",
       "      <td>negative</td>\n",
       "    </tr>\n",
       "    <tr>\n",
       "      <th>3</th>\n",
       "      <td>what interview! leave me alone</td>\n",
       "      <td>negative</td>\n",
       "    </tr>\n",
       "    <tr>\n",
       "      <th>4</th>\n",
       "      <td>Sons of ****, why couldn`t they put them on t...</td>\n",
       "      <td>negative</td>\n",
       "    </tr>\n",
       "  </tbody>\n",
       "</table>\n",
       "</div>"
      ],
      "text/plain": [
       "                                                text sentiment\n",
       "0                I`d have responded, if I were going   neutral\n",
       "1      Sooo SAD I will miss you here in San Diego!!!  negative\n",
       "2                          my boss is bullying me...  negative\n",
       "3                     what interview! leave me alone  negative\n",
       "4   Sons of ****, why couldn`t they put them on t...  negative"
      ]
     },
     "execution_count": 2,
     "metadata": {},
     "output_type": "execute_result"
    }
   ],
   "source": [
    "# dataset\n",
    "tweet = pd.read_csv(\"Tweets.csv\")\n",
    "tweet.drop(['selected_text', 'textID'], axis=1, inplace=True, errors=\"ignore\")\n",
    "tweet.dropna(inplace=True)\n",
    "tweet.reset_index(drop=True, inplace=True)\n",
    "tweet.head()"
   ]
  },
  {
   "cell_type": "code",
   "execution_count": 3,
   "id": "a759a518-54e2-4ff0-b3f6-339490c9d499",
   "metadata": {},
   "outputs": [],
   "source": [
    "# Setup stopwords & lemmatizer\n",
    "stopwords_set = set(stopwords.words('english'))\n",
    "# Keeping important negations\n",
    "negation_words = {\"no\", \"not\", \"nor\", \"never\"}\n",
    "filtered_stopwords = stopwords_set - negation_words\n",
    "lemmatizer = WordNetLemmatizer()"
   ]
  },
  {
   "cell_type": "code",
   "execution_count": 4,
   "id": "4f9b5a13-c59e-4a82-b7ae-6150058ba9cb",
   "metadata": {},
   "outputs": [],
   "source": [
    "# Text cleaning function\n",
    "def clean_text(text):\n",
    "    # Removing links and mentions\n",
    "    text = re.sub(r\"http\\S+\", \"\", text)\n",
    "    text = re.sub(r\"@\\w+\", \"\", text)\n",
    "    \n",
    "    # Keeping hashtags as they may have sentiment value\n",
    "    text = re.sub(r\"[^a-zA-Z#]\", \" \", text)\n",
    "    text = text.lower()\n",
    "\n",
    "    tokens = word_tokenize(text)\n",
    "\n",
    "    # POS tagging\n",
    "    tagged_tokens = pos_tag(tokens)\n",
    "\n",
    "    # Lemmatization with POS\n",
    "    lemmatized = [\n",
    "        lemmatizer.lemmatize(\n",
    "            word,\n",
    "            {\n",
    "                \"J\": wordnet.ADJ,\n",
    "                \"N\": wordnet.NOUN,\n",
    "                \"V\": wordnet.VERB,\n",
    "                \"R\": wordnet.ADV\n",
    "            }.get(tag[0].upper(), wordnet.NOUN)\n",
    "        )\n",
    "        for word, tag in tagged_tokens\n",
    "        if word not in filtered_stopwords and len(word) > 1\n",
    "    ]\n",
    "\n",
    "    return \" \".join(lemmatized)"
   ]
  },
  {
   "cell_type": "code",
   "execution_count": 5,
   "id": "6bed9d46-8fb1-47c0-b0f7-56f20b7d74ce",
   "metadata": {},
   "outputs": [
    {
     "data": {
      "text/html": [
       "<div>\n",
       "<style scoped>\n",
       "    .dataframe tbody tr th:only-of-type {\n",
       "        vertical-align: middle;\n",
       "    }\n",
       "\n",
       "    .dataframe tbody tr th {\n",
       "        vertical-align: top;\n",
       "    }\n",
       "\n",
       "    .dataframe thead th {\n",
       "        text-align: right;\n",
       "    }\n",
       "</style>\n",
       "<table border=\"1\" class=\"dataframe\">\n",
       "  <thead>\n",
       "    <tr style=\"text-align: right;\">\n",
       "      <th></th>\n",
       "      <th>text</th>\n",
       "      <th>sentiment</th>\n",
       "      <th>clean_text</th>\n",
       "    </tr>\n",
       "  </thead>\n",
       "  <tbody>\n",
       "    <tr>\n",
       "      <th>0</th>\n",
       "      <td>I`d have responded, if I were going</td>\n",
       "      <td>neutral</td>\n",
       "      <td>respond go</td>\n",
       "    </tr>\n",
       "    <tr>\n",
       "      <th>1</th>\n",
       "      <td>Sooo SAD I will miss you here in San Diego!!!</td>\n",
       "      <td>negative</td>\n",
       "      <td>sooo sad miss san diego</td>\n",
       "    </tr>\n",
       "    <tr>\n",
       "      <th>2</th>\n",
       "      <td>my boss is bullying me...</td>\n",
       "      <td>negative</td>\n",
       "      <td>bos bully</td>\n",
       "    </tr>\n",
       "    <tr>\n",
       "      <th>3</th>\n",
       "      <td>what interview! leave me alone</td>\n",
       "      <td>negative</td>\n",
       "      <td>interview leave alone</td>\n",
       "    </tr>\n",
       "    <tr>\n",
       "      <th>4</th>\n",
       "      <td>Sons of ****, why couldn`t they put them on t...</td>\n",
       "      <td>negative</td>\n",
       "      <td>son put release already buy</td>\n",
       "    </tr>\n",
       "  </tbody>\n",
       "</table>\n",
       "</div>"
      ],
      "text/plain": [
       "                                                text sentiment  \\\n",
       "0                I`d have responded, if I were going   neutral   \n",
       "1      Sooo SAD I will miss you here in San Diego!!!  negative   \n",
       "2                          my boss is bullying me...  negative   \n",
       "3                     what interview! leave me alone  negative   \n",
       "4   Sons of ****, why couldn`t they put them on t...  negative   \n",
       "\n",
       "                    clean_text  \n",
       "0                   respond go  \n",
       "1      sooo sad miss san diego  \n",
       "2                    bos bully  \n",
       "3        interview leave alone  \n",
       "4  son put release already buy  "
      ]
     },
     "execution_count": 5,
     "metadata": {},
     "output_type": "execute_result"
    }
   ],
   "source": [
    "# Apply preprocessing\n",
    "tweet['clean_text'] = tweet['text'].apply(clean_text)\n",
    "\n",
    "\n",
    "# Vectorization (TF-IDF)\n",
    "vectorizer = TfidfVectorizer(\n",
    "    max_features=5000,\n",
    "    ngram_range=(1, 2),\n",
    "    min_df=2\n",
    ")\n",
    "X = vectorizer.fit_transform(tweet['clean_text'])\n",
    "tweet.head()"
   ]
  },
  {
   "cell_type": "code",
   "execution_count": 6,
   "id": "2331285a-c22e-40d9-b331-504fd727ac70",
   "metadata": {},
   "outputs": [],
   "source": [
    "# Label encoding\n",
    "y = tweet['sentiment']\n",
    "encoder = LabelEncoder()\n",
    "y_encoded = encoder.fit_transform(y)\n",
    "\n",
    "# Train-test split\n",
    "X_train, X_test, y_train, y_test = train_test_split(\n",
    "    X, y_encoded, test_size=0.15, random_state=45, stratify=y_encoded\n",
    ")"
   ]
  },
  {
   "cell_type": "code",
   "execution_count": 7,
   "id": "62e772d7-ef0b-4912-bb05-00e48f3d332c",
   "metadata": {},
   "outputs": [
    {
     "name": "stdout",
     "output_type": "stream",
     "text": [
      "Accuracy: 0.7065\n",
      "              precision    recall  f1-score   support\n",
      "\n",
      "    negative       0.74      0.63      0.68      1167\n",
      "     neutral       0.64      0.75      0.69      1668\n",
      "    positive       0.79      0.72      0.75      1287\n",
      "\n",
      "    accuracy                           0.71      4122\n",
      "   macro avg       0.72      0.70      0.71      4122\n",
      "weighted avg       0.71      0.71      0.71      4122\n",
      "\n"
     ]
    },
    {
     "data": {
      "text/plain": [
       "<Figure size 600x600 with 0 Axes>"
      ]
     },
     "metadata": {},
     "output_type": "display_data"
    },
    {
     "data": {
      "image/png": "[encoded data removed]",
      "text/plain": [
       "<Figure size 640x480 with 2 Axes>"
      ]
     },
     "metadata": {},
     "output_type": "display_data"
    }
   ],
   "source": [
    "# Logistic Regression model\n",
    "model = LogisticRegression(max_iter=500, C=2.0, solver=\"lbfgs\")\n",
    "model.fit(X_train, y_train)\n",
    "\n",
    "\n",
    "# Evaluation\n",
    "y_pred = model.predict(X_test)\n",
    "accuracy = accuracy_score(y_test, y_pred)\n",
    "print(f\"Accuracy: {accuracy:.4f}\")\n",
    "print(classification_report(y_test, y_pred, target_names=encoder.classes_))\n",
    "\n",
    "\n",
    "# Confusion Matrix\n",
    "cm = confusion_matrix(y_test, y_pred, labels=range(len(encoder.classes_)))\n",
    "disp = ConfusionMatrixDisplay(confusion_matrix=cm, display_labels=encoder.classes_)\n",
    "plt.figure(figsize=(6,6))\n",
    "disp.plot(cmap=plt.cm.Blues, values_format='d')\n",
    "plt.title(\"Confusion Matrix - Logistic Regression\")\n",
    "plt.show()"
   ]
  },
  {
   "cell_type": "code",
   "execution_count": 8,
   "id": "1085911b-63b0-45b5-a045-b028d3d69077",
   "metadata": {},
   "outputs": [
    {
     "data": {
      "text/plain": [
       "['logreg_accuracy.pkl']"
      ]
     },
     "execution_count": 8,
     "metadata": {},
     "output_type": "execute_result"
    }
   ],
   "source": [
    "# Saving model & preprocessing objects\n",
    "joblib.dump(model, \"sentiment_model_logreg.pkl\")\n",
    "joblib.dump(vectorizer, \"tfidf.pkl\")\n",
    "joblib.dump(encoder, \"label_encoder.pkl\")\n",
    "joblib.dump(accuracy, \"logreg_accuracy.pkl\")"
   ]
  },
  {
   "cell_type": "code",
   "execution_count": 11,
   "id": "2821930a-2d3f-42e9-b07e-72fcfd07ea67",
   "metadata": {},
   "outputs": [
    {
     "name": "stdout",
     "output_type": "stream",
     "text": [
      "Predicted: ['negative']\n"
     ]
    }
   ],
   "source": [
    "# Test prediction\n",
    "text = \"The food delivery took two hours, and the order was still wrong. Never ordering again.\"\n",
    "clean = clean_text(text)\n",
    "vect = vectorizer.transform([clean])\n",
    "pred = model.predict(vect)\n",
    "print(\"Predicted:\", encoder.inverse_transform(pred))"
   ]
  }
 ],
 "metadata": {
  "kernelspec": {
   "display_name": "Python 3 (ipykernel)",
   "language": "python",
   "name": "python3"
  },
  "language_info": {
   "codemirror_mode": {
    "name": "ipython",
    "version": 3
   },
   "file_extension": ".py",
   "mimetype": "text/x-python",
   "name": "python",
   "nbconvert_exporter": "python",
   "pygments_lexer": "ipython3",
   "version": "3.12.4"
  }
 },
 "nbformat": 4,
 "nbformat_minor": 5
}
